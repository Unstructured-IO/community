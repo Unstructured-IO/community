{
 "cells": [
  {
   "cell_type": "markdown",
   "id": "b6d3b12f",
   "metadata": {},
   "source": [
    "## SEC Sentiment Analysis"
   ]
  },
  {
   "cell_type": "code",
   "execution_count": 1,
   "id": "6bf6c701",
   "metadata": {},
   "outputs": [],
   "source": [
    "%load_ext autoreload\n",
    "%autoreload 2"
   ]
  },
  {
   "cell_type": "markdown",
   "id": "9dce7f11",
   "metadata": {},
   "source": [
    "### Grab 10-K filings from EDGAR"
   ]
  },
  {
   "cell_type": "code",
   "execution_count": 2,
   "id": "8534e135",
   "metadata": {},
   "outputs": [],
   "source": [
    "import os\n",
    "\n",
    "import tqdm\n",
    "\n",
    "from fetch import get_form_by_ticker"
   ]
  },
  {
   "cell_type": "code",
   "execution_count": 3,
   "id": "820c49a1",
   "metadata": {},
   "outputs": [],
   "source": [
    "tickers = ['ehc', 'mrk','nke', 'msex', 'v', 'cvs', 'doc', 'smtc', 'cl', \n",
    "'ava', 'bc', 'f', 'lmt', 'cri', 'aig', 'rgld', 'apld', 'omcl', \n",
    "'mmm', 'bgs', 'dis','wetg', 'bj']"
   ]
  },
  {
   "cell_type": "code",
   "execution_count": 4,
   "id": "f50b5e40",
   "metadata": {},
   "outputs": [],
   "source": [
    "cwd = os.getcwd()\n",
    "data_directory = os.path.join(cwd, \"xbrl-forms\")\n",
    "if not os.path.exists(data_directory):\n",
    "    os.mkdir(data_directory)"
   ]
  },
  {
   "cell_type": "code",
   "execution_count": 5,
   "id": "9b9d7c32",
   "metadata": {},
   "outputs": [
    {
     "name": "stderr",
     "output_type": "stream",
     "text": [
      "100%|██████████████████████████████████████████████████████████████████████| 23/23 [00:59<00:00,  2.57s/it]\n"
     ]
    }
   ],
   "source": [
    "forms = []\n",
    "for ticker in tqdm.tqdm(tickers): \n",
    "    form_text = get_form_by_ticker(\n",
    "        ticker=ticker,\n",
    "        form_type=\"10-K\",\n",
    "        company=\"Unstructured Technologies\",\n",
    "        email=\"support@unstructured.io\"\n",
    "    )\n",
    "    \n",
    "    filename = os.path.join(data_directory, f\"{ticker}-10k.xbrl\")\n",
    "    with open(filename, \"w\") as f:\n",
    "        f.write(form_text)"
   ]
  },
  {
   "cell_type": "markdown",
   "id": "ce79d4e7",
   "metadata": {},
   "source": [
    "## Extract the Risk Factors Narrative"
   ]
  },
  {
   "cell_type": "code",
   "execution_count": 6,
   "id": "d7727c8e",
   "metadata": {},
   "outputs": [],
   "source": [
    "import requests\n",
    "import time"
   ]
  },
  {
   "cell_type": "code",
   "execution_count": 7,
   "id": "dc99e2be",
   "metadata": {},
   "outputs": [],
   "source": [
    "url = \"https://dev.api.unstructured.io/sec-filings/v0.0.2/section\""
   ]
  },
  {
   "cell_type": "code",
   "execution_count": 8,
   "id": "ebd5f5bc",
   "metadata": {},
   "outputs": [
    {
     "name": "stderr",
     "output_type": "stream",
     "text": [
      "100%|██████████████████████████████████████████████████████████████████████| 23/23 [07:48<00:00, 20.36s/it]\n"
     ]
    }
   ],
   "source": [
    "risk_factors = dict()\n",
    "for ticker in tqdm.tqdm(tickers):\n",
    "    response = requests.post(\n",
    "        url,\n",
    "        files={\"file\": open(f\"./xbrl-forms/{ticker}-10k.xbrl\", \"rb\")},\n",
    "        data={\"section\": [\"RISK_FACTORS\"]},\n",
    "    )\n",
    "    response.raise_for_status()\n",
    "    risk_factors[ticker] = response.json()[\"RISK_FACTORS\"]\n",
    "    time.sleep(1)"
   ]
  },
  {
   "cell_type": "code",
   "execution_count": null,
   "id": "beb15bf1",
   "metadata": {},
   "outputs": [],
   "source": []
  }
 ],
 "metadata": {
  "kernelspec": {
   "display_name": "Python 3 (ipykernel)",
   "language": "python",
   "name": "python3"
  },
  "language_info": {
   "codemirror_mode": {
    "name": "ipython",
    "version": 3
   },
   "file_extension": ".py",
   "mimetype": "text/x-python",
   "name": "python",
   "nbconvert_exporter": "python",
   "pygments_lexer": "ipython3",
   "version": "3.8.13"
  }
 },
 "nbformat": 4,
 "nbformat_minor": 5
}
